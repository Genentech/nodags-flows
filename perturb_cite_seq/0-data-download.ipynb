{
 "cells": [
  {
   "cell_type": "markdown",
   "id": "bd8a9a9f",
   "metadata": {},
   "source": [
    "This is intended to be a simple notebook for going through analysis of the Perturb-CITE-seq data, and get a better sense of what the data looks like. \n",
    "\n",
    "Ressources:\n",
    "1. [Paper](https://www.nature.com/articles/s41588-021-00779-1)\n",
    "2. [Original code for reproducing the paper](https://github.com/klarman-cell-observatory/Perturb-CITE-seq) \n",
    "3. [Data release](https://singlecell.broadinstitute.org/single_cell/study/SCP1064/multi-modal-pooled-perturb-cite-seq-screens-in-patient-models-define-novel-mechanisms-of-cancer-immune-evasion)\n",
    "\n",
    "# Step 0a: Download the data \n",
    "\n",
    "This (unfortunately) requires you to go through the following steps:\n",
    "1. Go to the data release [page](https://singlecell.broadinstitute.org/single_cell/study/SCP1064/multi-modal-pooled-perturb-cite-seq-screens-in-patient-models-define-novel-mechanisms-of-cancer-immune-evasion)\n",
    "2. Login / Create an account\n",
    "3. Click on Download\n",
    "4. Click on Bulk Download option\n",
    "5. Copy **only** the variable *auth_code* from the URL and paste it **onto** the auth_code of the URL for the curl command below (each authorization code only works for 30 minute), and run the command (had to customize it).\n",
    "\n",
    "It should take under two minute"
   ]
  },
  {
   "cell_type": "code",
   "execution_count": 3,
   "id": "c6b7464c",
   "metadata": {},
   "outputs": [
    {
     "name": "stdout",
     "output_type": "stream",
     "text": [
      "  % Total    % Received % Xferd  Average Speed   Time    Time     Time  Current\n",
      "                                 Dload  Upload   Total   Spent    Left  Speed\n",
      "100  7747    0  7747    0     0   7602      0 --:--:--  0:00:01 --:--:--  7602\n"
     ]
    }
   ],
   "source": [
    "!curl -k \"https://singlecell.broadinstitute.org/single_cell/api/v1/bulk_download/generate_curl_config?accessions=SCP1064&auth_code=qD7R3EAB&directory=all\" -o cfg.txt"
   ]
  },
  {
   "cell_type": "code",
   "execution_count": 4,
   "id": "ef77ae15",
   "metadata": {},
   "outputs": [
    {
     "name": "stdout",
     "output_type": "stream",
     "text": [
      "  % Total    % Received % Xferd  Average Speed   Time    Time     Time  Current\n",
      "                                 Dload  Upload   Total   Spent    Left  Speed\n",
      "100  481M  100  481M    0     0   172M      0  0:00:02  0:00:02 --:--:--  172M\n",
      "  % Total    % Received % Xferd  Average Speed   Time    Time     Time  Current\n",
      "                                 Dload  Upload   Total   Spent    Left  Speed\n",
      "100  811M  100  811M    0     0   144M      0  0:00:05  0:00:05 --:--:--  155M\n",
      "  % Total    % Received % Xferd  Average Speed   Time    Time     Time  Current\n",
      "                                 Dload  Upload   Total   Spent    Left  Speed\n",
      "100  245M  100  245M    0     0  98.0M      0  0:00:02  0:00:02 --:--:-- 98.0M\n",
      "  % Total    % Received % Xferd  Average Speed   Time    Time     Time  Current\n",
      "                                 Dload  Upload   Total   Spent    Left  Speed\n",
      "100 3351M  100 3351M    0     0   163M      0  0:00:20  0:00:20 --:--:--  145M\n",
      "  % Total    % Received % Xferd  Average Speed   Time    Time     Time  Current\n",
      "                                 Dload  Upload   Total   Spent    Left  Speed\n",
      "100  236M  100  236M    0     0   146M      0  0:00:01  0:00:01 --:--:--  146M\n",
      "  % Total    % Received % Xferd  Average Speed   Time    Time     Time  Current\n",
      "                                 Dload  Upload   Total   Spent    Left  Speed\n",
      "100 5365k  100 5365k    0     0  19.4M      0 --:--:-- --:--:-- --:--:-- 19.4M\n",
      "  % Total    % Received % Xferd  Average Speed   Time    Time     Time  Current\n",
      "                                 Dload  Upload   Total   Spent    Left  Speed\n",
      "100 2575k    0 2575k    0     0  8942k      0 --:--:-- --:--:-- --:--:-- 8911k\n",
      "  % Total    % Received % Xferd  Average Speed   Time    Time     Time  Current\n",
      "                                 Dload  Upload   Total   Spent    Left  Speed\n",
      "100  895M  100  895M    0     0   192M      0  0:00:04  0:00:04 --:--:--  192M\n",
      "  % Total    % Received % Xferd  Average Speed   Time    Time     Time  Current\n",
      "                                 Dload  Upload   Total   Spent    Left  Speed\n",
      "100 1879k    0 1879k    0     0  8621k      0 --:--:-- --:--:-- --:--:-- 8581k\n",
      "  % Total    % Received % Xferd  Average Speed   Time    Time     Time  Current\n",
      "                                 Dload  Upload   Total   Spent    Left  Speed\n",
      "100  833M  100  833M    0     0   130M      0  0:00:06  0:00:06 --:--:--  135M\n",
      "  % Total    % Received % Xferd  Average Speed   Time    Time     Time  Current\n",
      "                                 Dload  Upload   Total   Spent    Left  Speed\n",
      "100 3599k  100 3599k    0     0  21.5M      0 --:--:-- --:--:-- --:--:-- 21.5M\n",
      "  % Total    % Received % Xferd  Average Speed   Time    Time     Time  Current\n",
      "                                 Dload  Upload   Total   Spent    Left  Speed\n",
      "100 1341k    0 1341k    0     0  7495k      0 --:--:-- --:--:-- --:--:-- 7454k\n",
      "  % Total    % Received % Xferd  Average Speed   Time    Time     Time  Current\n",
      "                                 Dload  Upload   Total   Spent    Left  Speed\n",
      "100   870    0   870    0     0   6258      0 --:--:-- --:--:-- --:--:--  6258\n"
     ]
    }
   ],
   "source": [
    "!curl -k -K cfg.txt && rm cfg.txt"
   ]
  },
  {
   "cell_type": "markdown",
   "id": "3f120bf2",
   "metadata": {},
   "source": [
    "## Step 1: Load the data onto scanpy"
   ]
  },
  {
   "cell_type": "code",
   "execution_count": 1,
   "id": "28bbad83",
   "metadata": {},
   "outputs": [],
   "source": [
    "import scanpy as sc\n",
    "import pandas as pd\n",
    "import numpy as np\n",
    "import scipy.sparse as sp"
   ]
  },
  {
   "cell_type": "code",
   "execution_count": 2,
   "id": "b0b87223",
   "metadata": {},
   "outputs": [],
   "source": [
    "data = sc.read_csv(\"../../perturb_cite_seq_data/SCP1064/other/RNA_expression.csv.gz\").transpose()\n",
    "\n",
    "# sparsify!\n",
    "data_sp = sp.csr_matrix(data.X)"
   ]
  },
  {
   "cell_type": "code",
   "execution_count": 4,
   "id": "c7594670",
   "metadata": {},
   "outputs": [
    {
     "name": "stderr",
     "output_type": "stream",
     "text": [
      "/scratch/4991657.sched-torque.pace.gatech.edu/ipykernel_132917/3568715894.py:2: DtypeWarning: Columns (3,5) have mixed types. Specify dtype option on import or set low_memory=False.\n",
      "  covariates = pd.read_csv(\"../../perturb_cite_seq_data/SCP1064/metadata/RNA_metadata.csv\", index_col=0).iloc[1:, ]\n"
     ]
    }
   ],
   "source": [
    "# get covariates\n",
    "covariates = pd.read_csv(\"../../perturb_cite_seq_data/SCP1064/metadata/RNA_metadata.csv\", index_col=0).iloc[1:, ]\n",
    "data.obs = covariates"
   ]
  },
  {
   "cell_type": "code",
   "execution_count": 5,
   "id": "42d5fa84",
   "metadata": {},
   "outputs": [
    {
     "name": "stderr",
     "output_type": "stream",
     "text": [
      "/scratch/4991657.sched-torque.pace.gatech.edu/ipykernel_132917/2603284310.py:2: SettingWithCopyWarning: \n",
      "A value is trying to be set on a copy of a slice from a DataFrame.\n",
      "Try using .loc[row_indexer,col_indexer] = value instead\n",
      "\n",
      "See the caveats in the documentation: https://pandas.pydata.org/pandas-docs/stable/user_guide/indexing.html#returning-a-view-versus-a-copy\n",
      "  data.obs[\"MOI\"] = data.obs[\"MOI\"].astype(np.int32)\n",
      "/scratch/4991657.sched-torque.pace.gatech.edu/ipykernel_132917/2603284310.py:3: SettingWithCopyWarning: \n",
      "A value is trying to be set on a copy of a slice from a DataFrame.\n",
      "Try using .loc[row_indexer,col_indexer] = value instead\n",
      "\n",
      "See the caveats in the documentation: https://pandas.pydata.org/pandas-docs/stable/user_guide/indexing.html#returning-a-view-versus-a-copy\n",
      "  data.obs[\"UMI_count\"] = data.obs[\"UMI_count\"].astype(np.double)\n"
     ]
    }
   ],
   "source": [
    "# correct dtypes\n",
    "data.obs[\"MOI\"] = data.obs[\"MOI\"].astype(np.int32)\n",
    "data.obs[\"UMI_count\"] = data.obs[\"UMI_count\"].astype(np.double)"
   ]
  },
  {
   "cell_type": "code",
   "execution_count": 6,
   "id": "85cf7f34",
   "metadata": {},
   "outputs": [
    {
     "name": "stdout",
     "output_type": "stream",
     "text": [
      "False\n"
     ]
    }
   ],
   "source": [
    "# de-normalize and round up\n",
    "norm_factor =  data.obs[\"UMI_count\"].values / 1.0e6\n",
    "Z = sp.diags(norm_factor).dot(np.expm1(data_sp))\n",
    "print(np.greater_equal(np.abs(Z.data - np.rint(Z.data)), 0.01).any())\n",
    "Z.data = np.rint(Z.data)\n",
    "data.X = Z"
   ]
  },
  {
   "cell_type": "code",
   "execution_count": 8,
   "id": "2f780a2a",
   "metadata": {},
   "outputs": [
    {
     "name": "stderr",
     "output_type": "stream",
     "text": [
      "/scratch/4991657.sched-torque.pace.gatech.edu/ipykernel_132917/3963001815.py:4: SettingWithCopyWarning: \n",
      "A value is trying to be set on a copy of a slice from a DataFrame.\n",
      "Try using .loc[row_indexer,col_indexer] = value instead\n",
      "\n",
      "See the caveats in the documentation: https://pandas.pydata.org/pandas-docs/stable/user_guide/indexing.html#returning-a-view-versus-a-copy\n",
      "  data.obs[\"sgRNAs\"] = guide_info[\"sgRNAs\"].astype(str)\n"
     ]
    }
   ],
   "source": [
    "# read guide info\n",
    "guide_info = pd.read_csv(\"../../perturb_cite_seq_data/SCP1064/documentation/all_sgRNA_assignments.txt\", index_col=0)\n",
    "guide_info = guide_info.replace(np.nan,'',regex=True)\n",
    "data.obs[\"sgRNAs\"] = guide_info[\"sgRNAs\"].astype(str)"
   ]
  },
  {
   "cell_type": "code",
   "execution_count": 9,
   "id": "0cde859d",
   "metadata": {},
   "outputs": [
    {
     "name": "stderr",
     "output_type": "stream",
     "text": [
      "/storage/home/hcoda1/8/msethuraman7/p-ff14-0/miniconda3/envs/murali/lib/python3.10/site-packages/anndata/_core/anndata.py:1235: SettingWithCopyWarning: \n",
      "A value is trying to be set on a copy of a slice from a DataFrame.\n",
      "Try using .loc[row_indexer,col_indexer] = value instead\n",
      "\n",
      "See the caveats in the documentation: https://pandas.pydata.org/pandas-docs/stable/user_guide/indexing.html#returning-a-view-versus-a-copy\n",
      "  df[key] = c\n",
      "/storage/home/hcoda1/8/msethuraman7/p-ff14-0/miniconda3/envs/murali/lib/python3.10/site-packages/anndata/_core/anndata.py:1235: SettingWithCopyWarning: \n",
      "A value is trying to be set on a copy of a slice from a DataFrame.\n",
      "Try using .loc[row_indexer,col_indexer] = value instead\n",
      "\n",
      "See the caveats in the documentation: https://pandas.pydata.org/pandas-docs/stable/user_guide/indexing.html#returning-a-view-versus-a-copy\n",
      "  df[key] = c\n",
      "/storage/home/hcoda1/8/msethuraman7/p-ff14-0/miniconda3/envs/murali/lib/python3.10/site-packages/anndata/_core/anndata.py:1235: SettingWithCopyWarning: \n",
      "A value is trying to be set on a copy of a slice from a DataFrame.\n",
      "Try using .loc[row_indexer,col_indexer] = value instead\n",
      "\n",
      "See the caveats in the documentation: https://pandas.pydata.org/pandas-docs/stable/user_guide/indexing.html#returning-a-view-versus-a-copy\n",
      "  df[key] = c\n"
     ]
    }
   ],
   "source": [
    "data.write_h5ad(\"../../perturb_cite_seq_data/SCP1064/other/adata.h5ad\")"
   ]
  },
  {
   "cell_type": "code",
   "execution_count": 10,
   "id": "b8a87c28",
   "metadata": {},
   "outputs": [
    {
     "data": {
      "text/html": [
       "<div>\n",
       "<style scoped>\n",
       "    .dataframe tbody tr th:only-of-type {\n",
       "        vertical-align: middle;\n",
       "    }\n",
       "\n",
       "    .dataframe tbody tr th {\n",
       "        vertical-align: top;\n",
       "    }\n",
       "\n",
       "    .dataframe thead th {\n",
       "        text-align: right;\n",
       "    }\n",
       "</style>\n",
       "<table border=\"1\" class=\"dataframe\">\n",
       "  <thead>\n",
       "    <tr style=\"text-align: right;\">\n",
       "      <th></th>\n",
       "      <th>sgRNAs</th>\n",
       "    </tr>\n",
       "    <tr>\n",
       "      <th>Cell</th>\n",
       "      <th></th>\n",
       "    </tr>\n",
       "  </thead>\n",
       "  <tbody>\n",
       "    <tr>\n",
       "      <th>CELL_1</th>\n",
       "      <td>HLA-B_2</td>\n",
       "    </tr>\n",
       "    <tr>\n",
       "      <th>CELL_2</th>\n",
       "      <td>NGFR_3,SERPINF1_3</td>\n",
       "    </tr>\n",
       "    <tr>\n",
       "      <th>CELL_3</th>\n",
       "      <td>HLA-B_2</td>\n",
       "    </tr>\n",
       "    <tr>\n",
       "      <th>CELL_4</th>\n",
       "      <td>NMRK1_3,S100A6_3</td>\n",
       "    </tr>\n",
       "    <tr>\n",
       "      <th>CELL_5</th>\n",
       "      <td></td>\n",
       "    </tr>\n",
       "    <tr>\n",
       "      <th>...</th>\n",
       "      <td>...</td>\n",
       "    </tr>\n",
       "    <tr>\n",
       "      <th>CELL_218327</th>\n",
       "      <td>CTSO_3,PIK3IP1_3,VDAC2_2,WNT7A_1</td>\n",
       "    </tr>\n",
       "    <tr>\n",
       "      <th>CELL_218328</th>\n",
       "      <td>JAK2_3,SLC7A5P1_3</td>\n",
       "    </tr>\n",
       "    <tr>\n",
       "      <th>CELL_218329</th>\n",
       "      <td>S100A6_2,SAT1_2,ONE_NON-GENE_SITE_177</td>\n",
       "    </tr>\n",
       "    <tr>\n",
       "      <th>CELL_218330</th>\n",
       "      <td>CDKN2B_3</td>\n",
       "    </tr>\n",
       "    <tr>\n",
       "      <th>CELL_218331</th>\n",
       "      <td>NO_SITE_694</td>\n",
       "    </tr>\n",
       "  </tbody>\n",
       "</table>\n",
       "<p>218331 rows × 1 columns</p>\n",
       "</div>"
      ],
      "text/plain": [
       "                                            sgRNAs\n",
       "Cell                                              \n",
       "CELL_1                                     HLA-B_2\n",
       "CELL_2                           NGFR_3,SERPINF1_3\n",
       "CELL_3                                     HLA-B_2\n",
       "CELL_4                            NMRK1_3,S100A6_3\n",
       "CELL_5                                            \n",
       "...                                            ...\n",
       "CELL_218327       CTSO_3,PIK3IP1_3,VDAC2_2,WNT7A_1\n",
       "CELL_218328                      JAK2_3,SLC7A5P1_3\n",
       "CELL_218329  S100A6_2,SAT1_2,ONE_NON-GENE_SITE_177\n",
       "CELL_218330                               CDKN2B_3\n",
       "CELL_218331                            NO_SITE_694\n",
       "\n",
       "[218331 rows x 1 columns]"
      ]
     },
     "execution_count": 10,
     "metadata": {},
     "output_type": "execute_result"
    }
   ],
   "source": [
    "guide_info"
   ]
  },
  {
   "cell_type": "code",
   "execution_count": 11,
   "id": "fc34ad39",
   "metadata": {},
   "outputs": [
    {
     "data": {
      "text/plain": [
       "IFNγ          87590\n",
       "Co-culture    73114\n",
       "Control       57627\n",
       "Name: condition, dtype: int64"
      ]
     },
     "execution_count": 11,
     "metadata": {},
     "output_type": "execute_result"
    }
   ],
   "source": [
    "covariates[\"condition\"].value_counts()"
   ]
  },
  {
   "cell_type": "code",
   "execution_count": 12,
   "id": "03ce007d",
   "metadata": {},
   "outputs": [
    {
     "data": {
      "text/plain": [
       "1     126966\n",
       "2      45135\n",
       "0      23028\n",
       "3      14525\n",
       "4       5053\n",
       "5       1942\n",
       "6        793\n",
       "7        386\n",
       "8        222\n",
       "9        115\n",
       "10        64\n",
       "11        37\n",
       "12        30\n",
       "13        11\n",
       "15         9\n",
       "14         6\n",
       "17         4\n",
       "19         2\n",
       "18         2\n",
       "16         1\n",
       "Name: MOI, dtype: int64"
      ]
     },
     "execution_count": 12,
     "metadata": {},
     "output_type": "execute_result"
    }
   ],
   "source": [
    "# Multiplicity of infection = number of guides per cell?\n",
    "# Extended figure 2\n",
    "covariates[\"MOI\"].value_counts()"
   ]
  },
  {
   "cell_type": "code",
   "execution_count": 13,
   "id": "34d6bc44",
   "metadata": {},
   "outputs": [
    {
     "data": {
      "text/plain": [
       "1.3874850570922133"
      ]
     },
     "execution_count": 13,
     "metadata": {},
     "output_type": "execute_result"
    }
   ],
   "source": [
    "covariates[\"MOI\"].mean()"
   ]
  },
  {
   "cell_type": "code",
   "execution_count": 14,
   "id": "c856e37c",
   "metadata": {},
   "outputs": [
    {
     "data": {
      "text/plain": [
       "IFNGR2_2       358\n",
       "NO_SITE_47     333\n",
       "NO_SITE_913    317\n",
       "HLA-DRB5_2     315\n",
       "NO_SITE_23     296\n",
       "              ... \n",
       "PSMA7_1          2\n",
       "DNAJC9_2         2\n",
       "EIF2S3_3         1\n",
       "UBC_2            1\n",
       "TUBB_2           1\n",
       "Name: sgRNA, Length: 818, dtype: int64"
      ]
     },
     "execution_count": 14,
     "metadata": {},
     "output_type": "execute_result"
    }
   ],
   "source": [
    "covariates[\"sgRNA\"].value_counts()"
   ]
  },
  {
   "cell_type": "code",
   "execution_count": null,
   "id": "b7fcd095",
   "metadata": {},
   "outputs": [],
   "source": []
  }
 ],
 "metadata": {
  "kernelspec": {
   "display_name": "Python [conda env:miniconda3-murali]",
   "language": "python",
   "name": "conda-env-miniconda3-murali-py"
  },
  "language_info": {
   "codemirror_mode": {
    "name": "ipython",
    "version": 3
   },
   "file_extension": ".py",
   "mimetype": "text/x-python",
   "name": "python",
   "nbconvert_exporter": "python",
   "pygments_lexer": "ipython3",
   "version": "3.10.6"
  }
 },
 "nbformat": 4,
 "nbformat_minor": 5
}
