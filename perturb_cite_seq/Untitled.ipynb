{
 "cells": [
  {
   "cell_type": "code",
   "execution_count": 1,
   "id": "cc5b35ad",
   "metadata": {},
   "outputs": [],
   "source": [
    "import numpy as np \n",
    "from matplotlib import pyplot as plt \n",
    "import scanpy as sc\n",
    "import pandas as pd\n",
    "import scipy.sparse as sp"
   ]
  },
  {
   "cell_type": "code",
   "execution_count": 2,
   "id": "e709c9f7",
   "metadata": {},
   "outputs": [
    {
     "name": "stdout",
     "output_type": "stream",
     "text": [
      "CPU times: user 109 ms, sys: 102 ms, total: 212 ms\n",
      "Wall time: 7.57 s\n"
     ]
    }
   ],
   "source": [
    "%%time \n",
    "adata = sc.read_h5ad(\"../../perturb_cite_seq_data/SCP1064/ready/control/gene_filtered_adata.h5ad\")"
   ]
  },
  {
   "cell_type": "code",
   "execution_count": 3,
   "id": "e01bfb52",
   "metadata": {},
   "outputs": [],
   "source": [
    "def generate_nodags_data(adata_path):\n",
    "    adata = sc.read_h5ad(adata_path)\n",
    "    data = sp.csr_matrix.toarray(adata.X)\n",
    "    \n",
    "    final_genes = adata.var.index\n",
    "    \n",
    "    datasets = []\n",
    "    \n",
    "    for gene in final_genes:\n",
    "        datasets.append(\n",
    "            data[adata.obs['targets'] == gene, :]\n",
    "        )\n",
    "\n",
    "    intervention_sets = [[i] for i in range(61)]\n",
    "    \n",
    "    return datasets, intervention_sets\n",
    "\n",
    "    "
   ]
  },
  {
   "cell_type": "code",
   "execution_count": 4,
   "id": "4a11b597",
   "metadata": {},
   "outputs": [],
   "source": [
    "control_datasets, control_interventions = generate_nodags_data(\"../../perturb_cite_seq_data/SCP1064/ready/control/gene_filtered_adata.h5ad\")\n",
    "cocult_datasets, cocult_interventions = generate_nodags_data(\"../../perturb_cite_seq_data/SCP1064/ready/cocult/gene_filtered_adata.h5ad\")\n",
    "ifn_datasets, ifn_interventions = generate_nodags_data(\"../../perturb_cite_seq_data/SCP1064/ready/ifn/gene_filtered_adata.h5ad\")\n"
   ]
  },
  {
   "cell_type": "code",
   "execution_count": 5,
   "id": "f09d2f31",
   "metadata": {},
   "outputs": [],
   "source": [
    "control_training_data, control_training_interventions = control_datasets[:-6], control_interventions[:-6]\n",
    "cocult_training_data, cocult_training_interventions = cocult_datasets[:-6], cocult_interventions[:-6]\n",
    "ifn_training_data, ifn_training_interventions = ifn_datasets[:-6], ifn_interventions[:-6]\n",
    "\n",
    "control_validation_data, control_validation_interventions = control_datasets[-6:], control_interventions[-6:]\n",
    "cocult_validation_data, cocult_validation_interventions = cocult_datasets[-6:], cocult_interventions[-6:]\n",
    "ifn_validation_data, ifn_validation_interventions = ifn_datasets[-6:], ifn_interventions[-6:]\n"
   ]
  },
  {
   "cell_type": "code",
   "execution_count": 6,
   "id": "8a3c3d15",
   "metadata": {},
   "outputs": [],
   "source": [
    "# saving control data\n",
    "for i, dataset in enumerate(control_training_data):\n",
    "    np.save(\"../../perturb_cite_seq_data/nodags_data/control/training_data/dataset_{}.npy\".format(i), dataset)\n",
    "np.save(\"../../perturb_cite_seq_data/nodags_data/control/training_data/intervention_sets.npy\", control_training_interventions)\n",
    "\n",
    "for i, dataset in enumerate(control_validation_data):\n",
    "    np.save(\"../../perturb_cite_seq_data/nodags_data/control/validation_data/dataset_{}.npy\".format(i), dataset)\n",
    "np.save(\"../../perturb_cite_seq_data/nodags_data/control/validation_data/intervention_sets.npy\", control_validation_interventions)"
   ]
  },
  {
   "cell_type": "code",
   "execution_count": 7,
   "id": "6fe2fc6e",
   "metadata": {},
   "outputs": [],
   "source": [
    "# saving cocult data\n",
    "for i, dataset in enumerate(cocult_training_data):\n",
    "    np.save(\"../../perturb_cite_seq_data/nodags_data/cocult/training_data/dataset_{}.npy\".format(i), dataset)\n",
    "np.save(\"../../perturb_cite_seq_data/nodags_data/cocult/training_data/intervention_sets.npy\", cocult_training_interventions)\n",
    "\n",
    "for i, dataset in enumerate(cocult_validation_data):\n",
    "    np.save(\"../../perturb_cite_seq_data/nodags_data/cocult/validation_data/dataset_{}.npy\".format(i), dataset)\n",
    "np.save(\"../../perturb_cite_seq_data/nodags_data/cocult/validation_data/intervention_sets.npy\", cocult_validation_interventions)"
   ]
  },
  {
   "cell_type": "code",
   "execution_count": 8,
   "id": "abb82719",
   "metadata": {},
   "outputs": [],
   "source": [
    "# saving ifn data\n",
    "for i, dataset in enumerate(ifn_training_data):\n",
    "    np.save(\"../../perturb_cite_seq_data/nodags_data/ifn/training_data/dataset_{}.npy\".format(i), dataset)\n",
    "np.save(\"../../perturb_cite_seq_data/nodags_data/ifn/training_data/intervention_sets.npy\", ifn_training_interventions)\n",
    "\n",
    "for i, dataset in enumerate(ifn_validation_data):\n",
    "    np.save(\"../../perturb_cite_seq_data/nodags_data/ifn/validation_data/dataset_{}.npy\".format(i), dataset)\n",
    "np.save(\"../../perturb_cite_seq_data/nodags_data/ifn/validation_data/intervention_sets.npy\", ifn_validation_interventions)"
   ]
  },
  {
   "cell_type": "code",
   "execution_count": 8,
   "id": "c04944df",
   "metadata": {},
   "outputs": [],
   "source": [
    "# saving control data\n",
    "for i, dataset in enumerate(control_datasets):\n",
    "    np.save(\"../../perturb_cite_seq_data/nodags_data/control/dataset_{}.npy\".format(i), dataset)\n",
    "np.save(\"../../perturb_cite_seq_data/nodags_data/control/intervention_sets.npy\", control_interventions)\n",
    "\n",
    "# saving cocult data\n",
    "for i, dataset in enumerate(cocult_datasets):\n",
    "    np.save(\"../../perturb_cite_seq_data/nodags_data/cocult/dataset_{}.npy\".format(i), dataset)\n",
    "np.save(\"../../perturb_cite_seq_data/nodags_data/cocult/intervention_sets.npy\", cocult_interventions)\n",
    "\n",
    "# saving ifn data\n",
    "for i, dataset in enumerate(ifn_datasets):\n",
    "    np.save(\"../../perturb_cite_seq_data/nodags_data/ifn/dataset_{}.npy\".format(i), dataset)\n",
    "np.save(\"../../perturb_cite_seq_data/nodags_data/ifn/intervention_sets.npy\", ifn_interventions)\n",
    "\n"
   ]
  },
  {
   "cell_type": "code",
   "execution_count": 9,
   "id": "282364dd",
   "metadata": {},
   "outputs": [],
   "source": [
    "np.save(\"../../perturb_cite_seq_data/nodags_data/control/training_data/weights.npy\", np.eye(61))\n",
    "np.save(\"../../perturb_cite_seq_data/nodags_data/cocult/training_data/weights.npy\", np.eye(61))\n",
    "np.save(\"../../perturb_cite_seq_data/nodags_data/ifn/training_data/weights.npy\", np.eye(61))\n",
    "\n",
    "np.save(\"../../perturb_cite_seq_data/nodags_data/control/validation_data/weights.npy\", np.eye(61))\n",
    "np.save(\"../../perturb_cite_seq_data/nodags_data/cocult/validation_data/weights.npy\", np.eye(61))\n",
    "np.save(\"../../perturb_cite_seq_data/nodags_data/ifn/validation_data/weights.npy\", np.eye(61))"
   ]
  },
  {
   "cell_type": "code",
   "execution_count": 13,
   "id": "00348d24",
   "metadata": {},
   "outputs": [
    {
     "data": {
      "text/plain": [
       "[[0],\n",
       " [1],\n",
       " [2],\n",
       " [3],\n",
       " [4],\n",
       " [5],\n",
       " [6],\n",
       " [7],\n",
       " [8],\n",
       " [9],\n",
       " [10],\n",
       " [11],\n",
       " [12],\n",
       " [13],\n",
       " [14],\n",
       " [15],\n",
       " [16],\n",
       " [17],\n",
       " [18],\n",
       " [19],\n",
       " [20],\n",
       " [21],\n",
       " [22],\n",
       " [23],\n",
       " [24],\n",
       " [25],\n",
       " [26],\n",
       " [27],\n",
       " [28],\n",
       " [29],\n",
       " [30],\n",
       " [31],\n",
       " [32],\n",
       " [33],\n",
       " [34],\n",
       " [35],\n",
       " [36],\n",
       " [37],\n",
       " [38],\n",
       " [39],\n",
       " [40],\n",
       " [41],\n",
       " [42],\n",
       " [43],\n",
       " [44],\n",
       " [45],\n",
       " [46],\n",
       " [47],\n",
       " [48],\n",
       " [49],\n",
       " [50],\n",
       " [51],\n",
       " [52],\n",
       " [53],\n",
       " [54]]"
      ]
     },
     "execution_count": 13,
     "metadata": {},
     "output_type": "execute_result"
    }
   ],
   "source": [
    "control_training_interventions"
   ]
  },
  {
   "cell_type": "code",
   "execution_count": 20,
   "id": "5089fcf1",
   "metadata": {},
   "outputs": [],
   "source": [
    "data = sp.csr_matrix.toarray(adata.X)"
   ]
  },
  {
   "cell_type": "code",
   "execution_count": 21,
   "id": "0ea3bc8a",
   "metadata": {},
   "outputs": [
    {
     "data": {
      "text/plain": [
       "(57523, 61)"
      ]
     },
     "execution_count": 21,
     "metadata": {},
     "output_type": "execute_result"
    }
   ],
   "source": [
    "data.shape"
   ]
  },
  {
   "cell_type": "code",
   "execution_count": null,
   "id": "9ff5b0d9",
   "metadata": {},
   "outputs": [],
   "source": [
    "adata.obs"
   ]
  },
  {
   "cell_type": "code",
   "execution_count": 9,
   "id": "08de75ef",
   "metadata": {},
   "outputs": [
    {
     "data": {
      "text/plain": [
       "                                                        13142\n",
       "TSC22D3                                                   216\n",
       "CTSD                                                      212\n",
       "NT5E                                                      211\n",
       "RTP4                                                      208\n",
       "                                                        ...  \n",
       "CGAS,UQCRH                                                  1\n",
       "ACSL3,CHCHD2,CTSD,DAG1,IDH2,PTMA,SMAD3,TIMP2,TSC22D3        1\n",
       "CHCHD2,CGAS                                                 1\n",
       "CHCHD2,CITED1,FRZB,FSTL3,IDH2,IFNGR2,MT2A                   1\n",
       "DDR1,NME1                                                   1\n",
       "Name: targets, Length: 13092, dtype: int64"
      ]
     },
     "execution_count": 9,
     "metadata": {},
     "output_type": "execute_result"
    }
   ],
   "source": [
    "adata.obs[adata.obs[\"condition\"] == \"Control\"][\"targets\"].value_counts()"
   ]
  },
  {
   "cell_type": "code",
   "execution_count": 10,
   "id": "1fdad64b",
   "metadata": {},
   "outputs": [],
   "source": [
    "final_genes = adata.var.index\n",
    "\n",
    "gene_int_samples = {gene: 0 for gene in final_genes}\n",
    "gene_int_samples[''] = 0"
   ]
  },
  {
   "cell_type": "code",
   "execution_count": 14,
   "id": "fb69607c",
   "metadata": {},
   "outputs": [],
   "source": [
    "def checkTargetsinFinalGenes(targets, final_genes):\n",
    "    targets_list = targets.split(\",\")\n",
    "    ans = True\n",
    "    for target in targets_list:\n",
    "        if targets not in final_genes:\n",
    "            ans = False\n",
    "            \n",
    "    return ans"
   ]
  },
  {
   "cell_type": "code",
   "execution_count": 15,
   "id": "052e8ffd",
   "metadata": {},
   "outputs": [
    {
     "name": "stdout",
     "output_type": "stream",
     "text": [
      "8013\n",
      "35428\n"
     ]
    }
   ],
   "source": [
    "useful_samples = 0\n",
    "single_inter_cells = 0\n",
    "unique_targets = list()\n",
    "for index, row in adata.obs.iterrows():\n",
    "    if checkTargetsinFinalGenes(row['targets'], final_genes):\n",
    "        useful_samples += 1\n",
    "        unique_targets.append(row['targets'])\n",
    "        gene_int_samples[row['targets']] += 1\n",
    "    if row['MOI'] == 1 or row[\"MOI\"] == 0:\n",
    "        single_inter_cells += 1\n",
    "\n",
    "print(useful_samples)\n",
    "print(single_inter_cells)"
   ]
  },
  {
   "cell_type": "code",
   "execution_count": 18,
   "id": "20b18a7e",
   "metadata": {},
   "outputs": [
    {
     "data": {
      "text/plain": [
       "array(['ACSL3', 'ACTA2', 'B2M', 'CCND1', 'CD274', 'CD58', 'CD59', 'CDK4',\n",
       "       'CDK6', 'CDKN1A', 'CKS1B', 'CST3', 'CTPS1', 'DNMT1', 'EIF3K',\n",
       "       'EVA1A', 'FKBP4', 'FOS', 'GSEC', 'GSN', 'HASPIN', 'HLA-A', 'HLA-B',\n",
       "       'HLA-C', 'HLA-E', 'IFNGR1', 'IFNGR2', 'ILF2', 'IRF3', 'JAK1',\n",
       "       'JAK2', 'LAMP2', 'LGALS3', 'MRPL47', 'MYC', 'P2RX4', 'PABPC1',\n",
       "       'PAICS', 'PET100', 'PTMA', 'PUF60', 'RNASEH2A', 'RRS1', 'SAT1',\n",
       "       'SEC11C', 'SINHCAF', 'SMAD4', 'SOX4', 'SP100', 'SSR2', 'STAT1',\n",
       "       'STOM', 'TGFB1', 'TIMP2', 'TM4SF1', 'TMED10', 'TMEM173', 'TOP1MT',\n",
       "       'TPRKB', 'TXNDC17', 'VDAC2'], dtype='<U8')"
      ]
     },
     "execution_count": 18,
     "metadata": {},
     "output_type": "execute_result"
    }
   ],
   "source": [
    "np.unique(unique_targets)"
   ]
  },
  {
   "cell_type": "code",
   "execution_count": 74,
   "id": "4def17e2",
   "metadata": {},
   "outputs": [],
   "source": [
    "obs_data = data[adata.obs['targets'] == '',:]\n",
    "datasets = [obs_data]\n",
    "\n",
    "for gene in final_genes:\n",
    "    datasets.append(\n",
    "        data[adata.obs['targets'] == gene, :]\n",
    "    )\n",
    "\n",
    "intervention_sets = [[None]] + [[i] for i in range(61)]"
   ]
  },
  {
   "cell_type": "code",
   "execution_count": 22,
   "id": "bbe6ccb2",
   "metadata": {},
   "outputs": [],
   "source": [
    "obs_data = data[adata.obs['targets'] == '',:]\n",
    "b2m_data = data[adata.obs['targets'] == 'B2M',:]"
   ]
  },
  {
   "cell_type": "code",
   "execution_count": 23,
   "id": "83f12fd9",
   "metadata": {},
   "outputs": [
    {
     "data": {
      "image/png": "[encoded data removed]",
      "text/plain": [
       "<Figure size 640x480 with 4 Axes>"
      ]
     },
     "metadata": {},
     "output_type": "display_data"
    }
   ],
   "source": [
    "fig, axs = plt.subplots(2, 2)\n",
    "\n",
    "axs[0, 0].hist(obs_data[:, 0])\n",
    "axs[0, 1].hist(obs_data[:, 2])\n",
    "axs[1, 0].hist(b2m_data[:, 0], color='red')\n",
    "_ = axs[1, 1].hist(b2m_data[:, 2], color='red')"
   ]
  },
  {
   "cell_type": "code",
   "execution_count": 32,
   "id": "c628b60b",
   "metadata": {},
   "outputs": [],
   "source": [
    "obs_data_cent = obs_data - obs_data.mean(axis=0)"
   ]
  },
  {
   "cell_type": "code",
   "execution_count": 33,
   "id": "4a775267",
   "metadata": {},
   "outputs": [
    {
     "data": {
      "text/plain": [
       "array([1.35076493, 0.27123336, 1.43438899, 0.57417099, 0.65185934,\n",
       "       1.22373799, 1.13910842, 1.35342653, 1.37653152, 0.94962468,\n",
       "       1.46981513, 0.90265875, 1.35275132, 1.27338793, 0.8543487 ,\n",
       "       1.28981213, 1.28209372, 0.58883364, 0.63089262, 0.8985343 ,\n",
       "       0.4505661 , 0.91311169, 1.42362646, 0.5947215 , 1.28714299,\n",
       "       1.26883561, 1.27623896, 1.07184669, 1.24687354, 1.32525902,\n",
       "       0.56226679, 1.32019722, 0.58940607, 1.24761515, 1.2619307 ,\n",
       "       0.55745304, 0.8130263 , 1.29347191, 1.20980449, 0.46099867,\n",
       "       1.19850521, 0.17897846, 1.35106942, 1.37135192, 1.30646342,\n",
       "       1.45254706, 0.85252696, 1.38077169, 1.37243477, 0.89969125,\n",
       "       1.28038136, 1.04200766, 1.26619642, 1.07230801, 1.41598745,\n",
       "       1.37603538, 0.54119139, 0.79979143, 1.36777045, 1.21083722,\n",
       "       1.15708291])"
      ]
     },
     "execution_count": 33,
     "metadata": {},
     "output_type": "execute_result"
    }
   ],
   "source": [
    "b2m_data.std(axis=0)"
   ]
  },
  {
   "cell_type": "code",
   "execution_count": 35,
   "id": "e4cb8933",
   "metadata": {},
   "outputs": [
    {
     "data": {
      "text/plain": [
       "array([ 1.05757233e-14, -5.30623690e-16, -1.02542300e-14, -1.21662939e-14,\n",
       "        6.83211245e-16, -9.73198086e-16, -8.54192518e-15,  1.73065370e-15,\n",
       "        1.59726136e-14, -7.85147831e-17, -8.78787734e-15, -8.31780239e-16,\n",
       "       -1.41553013e-16,  5.78961624e-15,  7.54971932e-16, -2.72444777e-15,\n",
       "        2.90867957e-15,  8.26806538e-16, -5.19106562e-16, -2.42375321e-15,\n",
       "       -5.03361789e-16, -9.62857856e-16,  1.37384819e-15, -7.12553336e-15,\n",
       "       -1.67616474e-15, -8.57850459e-16,  2.51983963e-15,  1.19903073e-14,\n",
       "        1.39545792e-15, -3.20036866e-15, -1.20663468e-16,  2.57241936e-15,\n",
       "       -7.80731269e-15,  1.20480233e-14, -2.75077142e-15, -4.23358063e-16,\n",
       "        1.09019812e-14,  2.75982757e-15, -1.43016190e-15, -7.13800246e-15,\n",
       "        1.03659113e-15,  2.82058487e-16, -2.13576430e-15, -3.88145526e-15,\n",
       "        9.54741114e-15,  3.44728389e-15,  9.19017479e-16,  2.17033311e-15,\n",
       "        1.81920459e-15, -2.56798590e-14, -3.72167168e-15, -1.14502837e-16,\n",
       "        3.58613357e-16,  1.38179260e-14,  1.00095451e-14,  2.01128618e-14,\n",
       "        1.50108624e-16, -1.83741826e-17,  7.78544952e-15, -1.58574518e-14,\n",
       "       -5.53523307e-15])"
      ]
     },
     "execution_count": 35,
     "metadata": {},
     "output_type": "execute_result"
    }
   ],
   "source": [
    "obs_data_cent.mean(axis=0)"
   ]
  },
  {
   "cell_type": "code",
   "execution_count": null,
   "id": "381bffc0",
   "metadata": {},
   "outputs": [],
   "source": []
  }
 ],
 "metadata": {
  "kernelspec": {
   "display_name": "Python [conda env:miniconda3-murali]",
   "language": "python",
   "name": "conda-env-miniconda3-murali-py"
  },
  "language_info": {
   "codemirror_mode": {
    "name": "ipython",
    "version": 3
   },
   "file_extension": ".py",
   "mimetype": "text/x-python",
   "name": "python",
   "nbconvert_exporter": "python",
   "pygments_lexer": "ipython3",
   "version": "3.10.6"
  }
 },
 "nbformat": 4,
 "nbformat_minor": 5
}
